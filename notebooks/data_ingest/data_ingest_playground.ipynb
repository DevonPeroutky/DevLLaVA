{
 "cells": [
  {
   "cell_type": "code",
   "execution_count": 2,
   "id": "963f979d-fcd1-4b72-9b37-14d69f637c88",
   "metadata": {},
   "outputs": [],
   "source": [
    "import json\n",
    "import os\n",
    "from pathlib import Path"
   ]
  },
  {
   "cell_type": "code",
   "execution_count": null,
   "id": "852d6a98-19fd-4861-ae17-94708dfff238",
   "metadata": {},
   "outputs": [],
   "source": [
    "# Specify the path to your JSON file\n",
    "file_path = '/home/devonperoutky/LLaVA/dataset/augmented/full_dataset.json'\n",
    "submission_id = 'ehhrsp'\n",
    "output_path = '/home/devonperoutky/LLaVA/dataset/'\n",
    "\n",
    "# Open the file and load the JSON data\n",
    "with open(file_path, 'r') as json_file:\n",
    "    data = json.load(json_file)\n",
    "\n",
    "# Now 'data' contains the contents of your JSON file\n",
    "print(len(data))"
   ]
  },
  {
   "cell_type": "code",
   "execution_count": null,
   "id": "047dfaa0-4181-4302-98fd-4b5410fb55bd",
   "metadata": {},
   "outputs": [],
   "source": []
  },
  {
   "cell_type": "code",
   "execution_count": null,
   "id": "134226c9-1fee-4c51-9e87-e48160999f4d",
   "metadata": {},
   "outputs": [],
   "source": [
    "existing_submission = any([submission.get('id') == submission_id for submission in data])\n",
    "all_images_downloaded = all([image_exists(image_path) for image_path in images]"
   ]
  },
  {
   "cell_type": "code",
   "execution_count": null,
   "id": "c0904c30-91da-441a-8f7f-ab2eeace110d",
   "metadata": {},
   "outputs": [],
   "source": [
    "image_exists = lambda image_path: Path(image_path).exists()"
   ]
  },
  {
   "cell_type": "code",
   "execution_count": null,
   "id": "3b67003f-f0de-420f-b6ab-4230b62eef1d",
   "metadata": {},
   "outputs": [],
   "source": [
    "image_exists(f'{output_path}./images/amnyr9.jpg')"
   ]
  },
  {
   "cell_type": "code",
   "execution_count": null,
   "id": "a93d8980-009c-4536-afe0-630f51f7a348",
   "metadata": {},
   "outputs": [],
   "source": [
    "f'{output_path}./images/amnyr9.jpg'"
   ]
  },
  {
   "cell_type": "code",
   "execution_count": null,
   "id": "e1eb0025-d718-4045-b910-9e6ef846f816",
   "metadata": {},
   "outputs": [],
   "source": [
    "file_list = os.listdir(output_path + 'images')\n",
    "\n",
    "# Print the list of filenames\n",
    "print(\"List of filenames:\")\n",
    "print(file_list)"
   ]
  },
  {
   "cell_type": "code",
   "execution_count": null,
   "id": "1dd66a28-8dc7-4e91-82fb-a0274692f9c8",
   "metadata": {},
   "outputs": [],
   "source": [
    "# Use filter() with a lambda function to filter the list\n",
    "filtered_list = list(filter(lambda x: '_key' not in x.get('image'), data))\n",
    "\n",
    "# Display the filtered list\n",
    "print(len(filtered_list))"
   ]
  },
  {
   "cell_type": "code",
   "execution_count": null,
   "id": "99ab685c-6e99-475d-82eb-eb20f42bed14",
   "metadata": {},
   "outputs": [],
   "source": [
    "len(data) - len(filtered_list)"
   ]
  },
  {
   "cell_type": "code",
   "execution_count": null,
   "id": "80b72d28-933e-49c3-87d5-cd475c9d34b9",
   "metadata": {},
   "outputs": [],
   "source": [
    "output_path = '/home/devonperoutky/LLaVA/dataset/'\n",
    "dataset_type = ['augmented', 'basic']\n",
    "split_type = ['full', 'train', 'test', 'validation']\n",
    "\n",
    "for dt in dataset_type:\n",
    "    for st in split_type:\n",
    "        file_path = output_path + dt + '/' + st + '_dataset.json'\n",
    "\n",
    "        # Open the file and load the JSON data\n",
    "        with open(file_path, 'r') as json_file:\n",
    "            data = json.load(json_file)\n",
    "\n",
    "        print(f'Loaded {len(data)} entries from {file_path}')\n",
    "        filtered_list = list(filter(lambda x: '_key' not in x.get('image'), data))\n",
    "        \n",
    "        print(f'{len(filtered_list)} after filtering')\n",
    "        \n",
    "        # Save the new data to the dataset\n",
    "        with open(file_path, 'w') as json_file:\n",
    "            json.dump(filtered_list, json_file, indent=4)\n",
    "            print(f'Saved {len(filtered_list)} image-caption pairs to {file_path}\\n-------------')"
   ]
  },
  {
   "cell_type": "markdown",
   "id": "30ed0805-5da8-4949-ad49-a834dc9ea7ce",
   "metadata": {},
   "source": [
    "# Make IDs unique"
   ]
  },
  {
   "cell_type": "code",
   "execution_count": 8,
   "id": "e5beca39-e69b-40c6-befa-11ac6e157151",
   "metadata": {},
   "outputs": [
    {
     "name": "stdout",
     "output_type": "stream",
     "text": [
      "Loaded 9209 entries from /home/devonperoutky/LLaVA/dataset/augmented/full_dataset.json\n",
      "Saved 9209 image-caption pairs to /home/devonperoutky/LLaVA/dataset/augmented/full_dataset.json\n",
      "-------------\n",
      "Loaded 7367 entries from /home/devonperoutky/LLaVA/dataset/augmented/train_dataset.json\n",
      "Saved 7367 image-caption pairs to /home/devonperoutky/LLaVA/dataset/augmented/train_dataset.json\n",
      "-------------\n",
      "Loaded 920 entries from /home/devonperoutky/LLaVA/dataset/augmented/test_dataset.json\n",
      "Saved 920 image-caption pairs to /home/devonperoutky/LLaVA/dataset/augmented/test_dataset.json\n",
      "-------------\n",
      "Loaded 922 entries from /home/devonperoutky/LLaVA/dataset/augmented/validation_dataset.json\n",
      "Saved 922 image-caption pairs to /home/devonperoutky/LLaVA/dataset/augmented/validation_dataset.json\n",
      "-------------\n",
      "Loaded 9209 entries from /home/devonperoutky/LLaVA/dataset/basic/full_dataset.json\n",
      "Saved 9209 image-caption pairs to /home/devonperoutky/LLaVA/dataset/basic/full_dataset.json\n",
      "-------------\n",
      "Loaded 7367 entries from /home/devonperoutky/LLaVA/dataset/basic/train_dataset.json\n",
      "Saved 7367 image-caption pairs to /home/devonperoutky/LLaVA/dataset/basic/train_dataset.json\n",
      "-------------\n",
      "Loaded 920 entries from /home/devonperoutky/LLaVA/dataset/basic/test_dataset.json\n",
      "Saved 920 image-caption pairs to /home/devonperoutky/LLaVA/dataset/basic/test_dataset.json\n",
      "-------------\n",
      "Loaded 922 entries from /home/devonperoutky/LLaVA/dataset/basic/validation_dataset.json\n",
      "Saved 922 image-caption pairs to /home/devonperoutky/LLaVA/dataset/basic/validation_dataset.json\n",
      "-------------\n"
     ]
    }
   ],
   "source": [
    "output_path = '/home/devonperoutky/LLaVA/dataset/'\n",
    "dataset_type = ['augmented', 'basic']\n",
    "split_type = ['full', 'train', 'test', 'validation']\n",
    "\n",
    "for dt in dataset_type:\n",
    "    for st in split_type:\n",
    "        file_path = output_path + dt + '/' + st + '_dataset.json'\n",
    "\n",
    "        # Open the file and load the JSON data\n",
    "        with open(file_path, 'r') as json_file:\n",
    "            data = json.load(json_file)\n",
    "\n",
    "        print(f'Loaded {len(data)} entries from {file_path}')\n",
    "\n",
    "        for item in data:\n",
    "            submission_id = item['id']\n",
    "            comment_id = item['comment_id']\n",
    "            new_submission_id = f'{submission_id}_{comment_id}'\n",
    "            item['id'] = new_submission_id\n",
    "            item['submission_id'] = submission_id\n",
    "        \n",
    "        # Save the new data to the dataset\n",
    "        with open(file_path, 'w') as json_file:\n",
    "            json.dump(data, json_file, indent=4)\n",
    "            print(f'Saved {len(data)} image-caption pairs to {file_path}\\n-------------')"
   ]
  },
  {
   "cell_type": "code",
   "execution_count": 7,
   "id": "55efdb2e-a2c2-4d87-8db6-a4e0c60976fe",
   "metadata": {},
   "outputs": [
    {
     "ename": "SyntaxError",
     "evalue": "incomplete input (3643325356.py, line 1)",
     "output_type": "error",
     "traceback": [
      "\u001b[0;36m  Cell \u001b[0;32mIn[7], line 1\u001b[0;36m\u001b[0m\n\u001b[0;31m    with(open(\u001b[0m\n\u001b[0m              ^\u001b[0m\n\u001b[0;31mSyntaxError\u001b[0m\u001b[0;31m:\u001b[0m incomplete input\n"
     ]
    }
   ],
   "source": [
    "data = None\n",
    "with(open("
   ]
  },
  {
   "cell_type": "code",
   "execution_count": null,
   "id": "ab8751ed-30a1-4184-8ee1-92335740e0a8",
   "metadata": {},
   "outputs": [],
   "source": []
  }
 ],
 "metadata": {
  "kernelspec": {
   "display_name": "Python 3 (ipykernel)",
   "language": "python",
   "name": "python3"
  },
  "language_info": {
   "codemirror_mode": {
    "name": "ipython",
    "version": 3
   },
   "file_extension": ".py",
   "mimetype": "text/x-python",
   "name": "python",
   "nbconvert_exporter": "python",
   "pygments_lexer": "ipython3",
   "version": "3.10.13"
  }
 },
 "nbformat": 4,
 "nbformat_minor": 5
}
