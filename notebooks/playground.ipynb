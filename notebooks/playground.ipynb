{
 "cells": [
  {
   "cell_type": "code",
   "execution_count": 49,
   "id": "9019d37b-623c-457d-90a8-121e700f5b82",
   "metadata": {},
   "outputs": [],
   "source": [
    "import json\n",
    "from PIL import Image\n",
    "import pandas as pd"
   ]
  },
  {
   "cell_type": "code",
   "execution_count": 45,
   "id": "8cb3fbb1-98ac-42f1-b0c6-ded5d990ead0",
   "metadata": {},
   "outputs": [],
   "source": [
    "json_file_path = '../dataset/augmented/validation_dataset.json'  # Replace with the actual path to your JSON file\n",
    "df = pd.read_json(json_file_path)\n",
    "\n",
    "# 130000-1\n",
    "one_epoch_blue = pd.read_json(\"../evaluations/validation/llava-v1.5-7b-augmented-roastme-lora-13000-1-epoch/blue-scores.json\")\n",
    "one_epoch_meteor = pd.read_json(\"../evaluations/validation/llava-v1.5-7b-augmented-roastme-lora-13000-1-epoch/meteor-scores.json\")\n",
    "one_epoch_rogue = pd.read_json(\"../evaluations/validation/llava-v1.5-7b-augmented-roastme-lora-13000-1-epoch/rogue-scores.json\")\n",
    "\n",
    "# full\n",
    "full_blue = pd.read_json(\"../evaluations/validation/llava-v1.5-7b-augmented-roastme-lora-full-1/blue-scores.json\")\n",
    "full_meteor = pd.read_json(\"../evaluations/validation/llava-v1.5-7b-augmented-roastme-lora-full-1/meteor-scores.json\")\n",
    "full_rogue = pd.read_json(\"../evaluations/validation/llava-v1.5-7b-augmented-roastme-lora-full-1/rogue-scores.json\")\n",
    "\n",
    "# basic\n",
    "base_model_blue = pd.read_json(\"../evaluations/validation/base-model/blue-scores.json\")\n",
    "base_model_meteor = pd.read_json(\"../evaluations/validation/base-model/meteor-scores.json\")\n",
    "base_model_rogue = pd.read_json(\"../evaluations/validation/base-model/rogue-scores.json\")"
   ]
  },
  {
   "cell_type": "code",
   "execution_count": 36,
   "id": "7f6d7047-79ef-4c18-bcfd-ebde0909591b",
   "metadata": {},
   "outputs": [
    {
     "data": {
      "text/plain": [
       "0.08369143981906296"
      ]
     },
     "execution_count": 36,
     "metadata": {},
     "output_type": "execute_result"
    }
   ],
   "source": [
    "base_model_blue['rougeL'].mean()"
   ]
  },
  {
   "cell_type": "code",
   "execution_count": 20,
   "id": "81c974bb-8393-4f0d-b219-24214db42f51",
   "metadata": {},
   "outputs": [
    {
     "data": {
      "text/plain": [
       "meteor    0.034722\n",
       "Name: 0, dtype: float64"
      ]
     },
     "execution_count": 20,
     "metadata": {},
     "output_type": "execute_result"
    }
   ],
   "source": [
    "one_epoch_meteor.loc[0]"
   ]
  },
  {
   "cell_type": "code",
   "execution_count": 44,
   "id": "92fca3f7-5884-43b4-8ac4-f1e0c46812ad",
   "metadata": {},
   "outputs": [
    {
     "name": "stdout",
     "output_type": "stream",
     "text": [
      "Meteor\n",
      "------------------------------\n",
      "meteor    0.440972\n",
      "dtype: float64\n",
      "meteor    0.455102\n",
      "dtype: float64\n",
      "meteor    0.490196\n",
      "dtype: float64\n",
      "\n",
      "Rogue\n",
      "------------------------------\n",
      "0.5\n",
      "0.399999999999999\n",
      "0.5454545454545451\n",
      "\n",
      "Bleu\n",
      "------------------------------\n",
      "0.209690255585245\n",
      "0.21386638885976503\n",
      "0.21536724200522803\n",
      "Meteor\n",
      "------------------------------\n",
      "meteor    921\n",
      "dtype: int64\n",
      "meteor    976\n",
      "dtype: int64\n",
      "meteor    317\n",
      "dtype: int64\n",
      "\n",
      "Rogue\n",
      "------------------------------\n",
      "921\n",
      "921\n",
      "26\n",
      "\n",
      "Bleu\n",
      "------------------------------\n",
      "310\n",
      "921\n",
      "26\n"
     ]
    }
   ],
   "source": [
    "print(f\"Meteor\\n{'-'*30}\")\n",
    "print(base_model_meteor.max())\n",
    "print(full_meteor.max())\n",
    "print(one_epoch_meteor.max())\n",
    "\n",
    "print(f\"\\nRogue\\n{'-'*30}\")\n",
    "print(base_model_blue['rougeL'].max())\n",
    "print(full_blue['rougeL'].max())\n",
    "print(one_epoch_blue['rougeL'].max())\n",
    "\n",
    "print(f\"\\nBleu\\n{'-'*30}\")\n",
    "print(base_model_rogue['bleu'].max())\n",
    "print(full_rogue['bleu'].max())\n",
    "print(one_epoch_rogue['bleu'].max())\n",
    "\n",
    "print(f\"Meteor\\n{'-'*30}\")\n",
    "print(base_model_meteor.idxmax())\n",
    "print(full_meteor.idxmax())\n",
    "print(one_epoch_meteor.idxmax())\n",
    "\n",
    "print(f\"\\nRogue\\n{'-'*30}\")\n",
    "print(base_model_blue['rougeL'].idxmax())\n",
    "print(full_blue['rougeL'].idxmax())\n",
    "print(one_epoch_blue['rougeL'].idxmax())\n",
    "\n",
    "print(f\"\\nBleu\\n{'-'*30}\")\n",
    "print(base_model_rogue['bleu'].idxmax())\n",
    "print(full_rogue['bleu'].idxmax())\n",
    "print(one_epoch_rogue['bleu'].idxmax())"
   ]
  },
  {
   "cell_type": "code",
   "execution_count": 46,
   "id": "d81102f2-8b84-47bb-bffe-239266ccda7f",
   "metadata": {},
   "outputs": [
    {
     "data": {
      "text/plain": [
       "id                                                  mkoqcv_gth4hme\n",
       "title            27 years young. Trucker. Bad month and bad hea...\n",
       "image            /home/devonperoutky/LLaVA/dataset/images/mkoqc...\n",
       "comment_id                                                 gth4hme\n",
       "conversations    [{'from': 'human', 'value': '<image>\n",
       "27 years ...\n",
       "submission_id                                               mkoqcv\n",
       "Name: 921, dtype: object"
      ]
     },
     "execution_count": 46,
     "metadata": {},
     "output_type": "execute_result"
    }
   ],
   "source": [
    "Image.open(df.loc[921]['image'])"
   ]
  },
  {
   "cell_type": "code",
   "execution_count": 50,
   "id": "0c18d967-e370-40c7-ad4b-91bc981b397a",
   "metadata": {},
   "outputs": [
    {
     "ename": "AttributeError",
     "evalue": "'JpegImageFile' object has no attribute 'display'",
     "output_type": "error",
     "traceback": [
      "\u001b[0;31m---------------------------------------------------------------------------\u001b[0m",
      "\u001b[0;31mAttributeError\u001b[0m                            Traceback (most recent call last)",
      "Cell \u001b[0;32mIn[50], line 1\u001b[0m\n\u001b[0;32m----> 1\u001b[0m \u001b[43mImage\u001b[49m\u001b[38;5;241;43m.\u001b[39;49m\u001b[43mopen\u001b[49m\u001b[43m(\u001b[49m\u001b[43mdf\u001b[49m\u001b[38;5;241;43m.\u001b[39;49m\u001b[43mloc\u001b[49m\u001b[43m[\u001b[49m\u001b[38;5;241;43m921\u001b[39;49m\u001b[43m]\u001b[49m\u001b[43m[\u001b[49m\u001b[38;5;124;43m'\u001b[39;49m\u001b[38;5;124;43mimage\u001b[39;49m\u001b[38;5;124;43m'\u001b[39;49m\u001b[43m]\u001b[49m\u001b[43m)\u001b[49m\u001b[38;5;241;43m.\u001b[39;49m\u001b[43mdisplay\u001b[49m()\n\u001b[1;32m      2\u001b[0m df\u001b[38;5;241m.\u001b[39mloc[\u001b[38;5;241m921\u001b[39m][\u001b[38;5;124m'\u001b[39m\u001b[38;5;124mconversations\u001b[39m\u001b[38;5;124m'\u001b[39m]\n",
      "\u001b[0;31mAttributeError\u001b[0m: 'JpegImageFile' object has no attribute 'display'"
     ]
    }
   ],
   "source": [
    "df.loc[921]['conversations']"
   ]
  },
  {
   "cell_type": "code",
   "execution_count": null,
   "id": "05f03250-43dd-4ce7-8e1d-63e31cc3b209",
   "metadata": {},
   "outputs": [],
   "source": []
  }
 ],
 "metadata": {
  "kernelspec": {
   "display_name": "Python 3 (ipykernel)",
   "language": "python",
   "name": "python3"
  },
  "language_info": {
   "codemirror_mode": {
    "name": "ipython",
    "version": 3
   },
   "file_extension": ".py",
   "mimetype": "text/x-python",
   "name": "python",
   "nbconvert_exporter": "python",
   "pygments_lexer": "ipython3",
   "version": "3.10.13"
  }
 },
 "nbformat": 4,
 "nbformat_minor": 5
}
